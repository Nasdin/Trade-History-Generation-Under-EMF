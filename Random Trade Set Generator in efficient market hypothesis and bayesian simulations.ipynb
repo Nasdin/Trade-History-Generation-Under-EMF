{
 "cells": [
  {
   "cell_type": "code",
   "execution_count": 145,
   "metadata": {
    "collapsed": true
   },
   "outputs": [],
   "source": [
    "import numpy as np\n",
    "import scipy\n",
    "import pandas as pd\n",
    "import matplotlib.pyplot as plt\n",
    "import seaborn as sns\n",
    "%matplotlib inline\n"
   ]
  },
  {
   "cell_type": "markdown",
   "metadata": {},
   "source": [
    "## Random Market Trade Generator, batch of trades"
   ]
  },
  {
   "cell_type": "code",
   "execution_count": 146,
   "metadata": {
    "collapsed": true
   },
   "outputs": [],
   "source": [
    "sns.set()\n",
    "spread = 0 #Assume Spread In Pips"
   ]
  },
  {
   "cell_type": "markdown",
   "metadata": {},
   "source": [
    "### Simulation Size"
   ]
  },
  {
   "cell_type": "code",
   "execution_count": 147,
   "metadata": {
    "collapsed": true
   },
   "outputs": [],
   "source": [
    "SimSize = 100000"
   ]
  },
  {
   "cell_type": "markdown",
   "metadata": {},
   "source": [
    "#### Pip Range base area"
   ]
  },
  {
   "cell_type": "code",
   "execution_count": 148,
   "metadata": {
    "collapsed": true
   },
   "outputs": [],
   "source": [
    "base = 50"
   ]
  },
  {
   "cell_type": "markdown",
   "metadata": {},
   "source": [
    "#### Random Generators"
   ]
  },
  {
   "cell_type": "code",
   "execution_count": 149,
   "metadata": {
    "collapsed": true
   },
   "outputs": [],
   "source": [
    "randomtrades = np.random.randint(0,high=2,size=SimSize)\n",
    "\n",
    "tradeid = range(SimSize,SimSize*2)\n",
    "\n",
    "PipModifier = (np.random.normal(size=SimSize))"
   ]
  },
  {
   "cell_type": "markdown",
   "metadata": {},
   "source": [
    "### Risk Reward Simulation\n",
    "    Assume that the average Risk Reward is at least 2 ( like a typical Trader would try and filter by)"
   ]
  },
  {
   "cell_type": "code",
   "execution_count": 150,
   "metadata": {},
   "outputs": [],
   "source": [
    "RiskReward =  np.random.binomial(n = 14, p = 0.3,size=SimSize)\n",
    "# I intended to make it a max of RR 7, I use 14 where I will divide by 2 later as a float to get a intervals of 0.5\n",
    "RiskReward = (RiskReward + 1)/2. # Gets rid of 0 and makes it a float too."
   ]
  },
  {
   "cell_type": "markdown",
   "metadata": {},
   "source": [
    "#### Check the min and average"
   ]
  },
  {
   "cell_type": "code",
   "execution_count": 151,
   "metadata": {},
   "outputs": [
    {
     "name": "stdout",
     "output_type": "stream",
     "text": [
      "0.5 2.60035\n"
     ]
    }
   ],
   "source": [
    "print np.min(RiskReward),np.mean(RiskReward)"
   ]
  },
  {
   "cell_type": "markdown",
   "metadata": {},
   "source": [
    "#### Logically you should expect the Risk Reward to be a binomial distribution such as this, \n",
    "    based on market volatility, the skew should be towards the left, as I've placed the parameter p = 0.3"
   ]
  },
  {
   "cell_type": "code",
   "execution_count": 152,
   "metadata": {},
   "outputs": [
    {
     "data": {
      "image/png": "[encoded data removed]",
      "text/plain": [
       "<matplotlib.figure.Figure at 0xf6d0128>"
      ]
     },
     "metadata": {},
     "output_type": "display_data"
    }
   ],
   "source": [
    "sns.distplot(RiskReward)\n",
    "plt.show()"
   ]
  },
  {
   "cell_type": "markdown",
   "metadata": {},
   "source": [
    "#### Headers and inferences"
   ]
  },
  {
   "cell_type": "code",
   "execution_count": 153,
   "metadata": {
    "collapsed": true
   },
   "outputs": [],
   "source": [
    "Header = [ 'TradeId','Direction','Size','SLPips', 'TPPips', 'OutcomePips','Outcome$', 'AccumulativeOutcomePips', 'AccumulativeOutcome']"
   ]
  },
  {
   "cell_type": "code",
   "execution_count": 154,
   "metadata": {
    "collapsed": true
   },
   "outputs": [],
   "source": [
    "sizerange = [ 0.1 for i in range(SimSize)]\n",
    "Direction = ['Buy' if direction == 1 else 'Sell' for direction in randomtrades ]"
   ]
  },
  {
   "cell_type": "markdown",
   "metadata": {},
   "source": [
    "### SL\n",
    " The distribution generates including negative numbers so we have to do a mathematical perturbation.\n",
    "     We'll do that by simply adding the abs of the minimum amount.\n",
    "         This way, the lowest value will become 0. However, the numbers are all inflated.\n",
    "         We will then have to divide it by the amount it was inflated by"
   ]
  },
  {
   "cell_type": "code",
   "execution_count": 155,
   "metadata": {},
   "outputs": [],
   "source": [
    "def GenSL(base=base, PipModifier=PipModifier):\n",
    "    first = (base *PipModifier) # The normal distribution but with negative values and positive value\n",
    "    minamt = abs(np.min(first)) # Amount to shift it by\n",
    "    ratio = minamt/base # Amount that it was inflated by\n",
    "    output = (first + minamt ) /4\n",
    "    return output*-1 #output should be negative for SL\n",
    "\n"
   ]
  },
  {
   "cell_type": "markdown",
   "metadata": {},
   "source": [
    "#### Same transformation for TP, except Tp is multiplied with Risk : Reward Ratio as a multiplier"
   ]
  },
  {
   "cell_type": "code",
   "execution_count": 156,
   "metadata": {},
   "outputs": [],
   "source": [
    "def GenTP(base=base, PipModifier=PipModifier, RiskReward=RiskReward):\n",
    "    first = (base *PipModifier) * RiskReward # The normal distribution but with negative values and positive value\n",
    "    minamt = abs(np.min(first)) # Amount to shift it by\n",
    "    ratio = minamt/base # Amount that it was inflated by\n",
    "    \n",
    "    return (first + minamt ) /4\n",
    "    \n"
   ]
  },
  {
   "cell_type": "code",
   "execution_count": 157,
   "metadata": {},
   "outputs": [
    {
     "data": {
      "image/png": "[encoded data removed]",
      "text/plain": [
       "<matplotlib.figure.Figure at 0xd2b66d8>"
      ]
     },
     "metadata": {},
     "output_type": "display_data"
    }
   ],
   "source": [
    "sns.distplot(GenSL(),bins=50, color = 'r')\n",
    "plt.show()\n"
   ]
  },
  {
   "cell_type": "code",
   "execution_count": 158,
   "metadata": {},
   "outputs": [
    {
     "data": {
      "image/png": "[encoded data removed]",
      "text/plain": [
       "<matplotlib.figure.Figure at 0xd911d30>"
      ]
     },
     "metadata": {},
     "output_type": "display_data"
    }
   ],
   "source": [
    "sns.distplot(GenTP(),bins=50, color = 'g')\n",
    "plt.show()"
   ]
  },
  {
   "cell_type": "markdown",
   "metadata": {
    "collapsed": true
   },
   "source": [
    "### Create the TP and SL array"
   ]
  },
  {
   "cell_type": "code",
   "execution_count": 159,
   "metadata": {
    "collapsed": true
   },
   "outputs": [],
   "source": [
    "TPPips = GenTP()\n",
    "SLPips = GenSL()"
   ]
  },
  {
   "cell_type": "markdown",
   "metadata": {},
   "source": [
    "#### Win/Loss based on Efficient Market Hypothesis"
   ]
  },
  {
   "cell_type": "markdown",
   "metadata": {},
   "source": [
    "####    Calculate Probability to Win on Random"
   ]
  },
  {
   "cell_type": "code",
   "execution_count": 160,
   "metadata": {
    "collapsed": true
   },
   "outputs": [],
   "source": [
    "def Prob(TP,SL):\n",
    "    Total = TP + abs(SL)\n",
    "    pb = abs(SL) / Total\n",
    "    return pb"
   ]
  },
  {
   "cell_type": "code",
   "execution_count": 161,
   "metadata": {},
   "outputs": [],
   "source": [
    "WinLoss = [ 1 if np.random.random() < Prob(TP,SL) else 0 for TP, SL in zip(TPPips,SLPips)]"
   ]
  },
  {
   "cell_type": "markdown",
   "metadata": {},
   "source": [
    "### Get the Outcome, Pips\n",
    "    Since this is going to be in a large loop, we'll produce it via a list comprehension"
   ]
  },
  {
   "cell_type": "code",
   "execution_count": 162,
   "metadata": {},
   "outputs": [],
   "source": [
    "OutcomePips = [TPPips[index] -spread if win==1 else SLPips[index] for index,win in enumerate(WinLoss)]"
   ]
  },
  {
   "cell_type": "markdown",
   "metadata": {},
   "source": [
    "#####  Accumulative Outcome Pips\n",
    "    Accumulative Pips is a step by step iterative accumulative code so a classic for loop will do"
   ]
  },
  {
   "cell_type": "code",
   "execution_count": 163,
   "metadata": {
    "collapsed": true
   },
   "outputs": [],
   "source": [
    "AccumulativePips =[]\n",
    "Totalpips =0\n",
    "for index,pips in enumerate(OutcomePips):\n",
    "        Totalpips += pips\n",
    "        AccumulativePips.append(Totalpips)\n"
   ]
  },
  {
   "cell_type": "code",
   "execution_count": 164,
   "metadata": {
    "collapsed": true
   },
   "outputs": [],
   "source": [
    "data = [ tradeid, Direction, SLPips, TPPips, WinLoss,OutcomePips,AccumulativePips]"
   ]
  },
  {
   "cell_type": "markdown",
   "metadata": {},
   "source": [
    "### Create the Panda Dataframe"
   ]
  },
  {
   "cell_type": "code",
   "execution_count": 165,
   "metadata": {
    "collapsed": true
   },
   "outputs": [],
   "source": [
    "Tradehistory = pd.DataFrame( {'TradeId': tradeid, 'Direction':Direction, 'SLPips':SLPips, 'TPPips':TPPips, 'WinLoss':WinLoss, 'ResultPips':OutcomePips,'PipP&L':AccumulativePips})"
   ]
  },
  {
   "cell_type": "code",
   "execution_count": 166,
   "metadata": {},
   "outputs": [
    {
     "data": {
      "text/html": [
       "<div>\n",
       "<style>\n",
       "    .dataframe thead tr:only-child th {\n",
       "        text-align: right;\n",
       "    }\n",
       "\n",
       "    .dataframe thead th {\n",
       "        text-align: left;\n",
       "    }\n",
       "\n",
       "    .dataframe tbody tr th {\n",
       "        vertical-align: top;\n",
       "    }\n",
       "</style>\n",
       "<table border=\"1\" class=\"dataframe\">\n",
       "  <thead>\n",
       "    <tr style=\"text-align: right;\">\n",
       "      <th></th>\n",
       "      <th>Direction</th>\n",
       "      <th>PipP&amp;L</th>\n",
       "      <th>ResultPips</th>\n",
       "      <th>SLPips</th>\n",
       "      <th>TPPips</th>\n",
       "      <th>TradeId</th>\n",
       "      <th>WinLoss</th>\n",
       "    </tr>\n",
       "  </thead>\n",
       "  <tbody>\n",
       "    <tr>\n",
       "      <th>0</th>\n",
       "      <td>Buy</td>\n",
       "      <td>227.475250</td>\n",
       "      <td>227.475250</td>\n",
       "      <td>-64.979820</td>\n",
       "      <td>227.475250</td>\n",
       "      <td>100000</td>\n",
       "      <td>1</td>\n",
       "    </tr>\n",
       "    <tr>\n",
       "      <th>1</th>\n",
       "      <td>Sell</td>\n",
       "      <td>152.450761</td>\n",
       "      <td>-75.024489</td>\n",
       "      <td>-75.024489</td>\n",
       "      <td>277.161225</td>\n",
       "      <td>100001</td>\n",
       "      <td>0</td>\n",
       "    </tr>\n",
       "    <tr>\n",
       "      <th>2</th>\n",
       "      <td>Buy</td>\n",
       "      <td>72.055682</td>\n",
       "      <td>-80.395079</td>\n",
       "      <td>-80.395079</td>\n",
       "      <td>295.958290</td>\n",
       "      <td>100002</td>\n",
       "      <td>0</td>\n",
       "    </tr>\n",
       "    <tr>\n",
       "      <th>3</th>\n",
       "      <td>Sell</td>\n",
       "      <td>26.886834</td>\n",
       "      <td>-45.168848</td>\n",
       "      <td>-45.168848</td>\n",
       "      <td>167.604208</td>\n",
       "      <td>100003</td>\n",
       "      <td>0</td>\n",
       "    </tr>\n",
       "    <tr>\n",
       "      <th>4</th>\n",
       "      <td>Sell</td>\n",
       "      <td>-20.804392</td>\n",
       "      <td>-47.691226</td>\n",
       "      <td>-47.691226</td>\n",
       "      <td>189.096976</td>\n",
       "      <td>100004</td>\n",
       "      <td>0</td>\n",
       "    </tr>\n",
       "    <tr>\n",
       "      <th>5</th>\n",
       "      <td>Buy</td>\n",
       "      <td>-48.693098</td>\n",
       "      <td>-27.888706</td>\n",
       "      <td>-27.888706</td>\n",
       "      <td>112.185986</td>\n",
       "      <td>100005</td>\n",
       "      <td>0</td>\n",
       "    </tr>\n",
       "    <tr>\n",
       "      <th>6</th>\n",
       "      <td>Buy</td>\n",
       "      <td>-110.667076</td>\n",
       "      <td>-61.973978</td>\n",
       "      <td>-61.973978</td>\n",
       "      <td>218.123275</td>\n",
       "      <td>100006</td>\n",
       "      <td>0</td>\n",
       "    </tr>\n",
       "    <tr>\n",
       "      <th>7</th>\n",
       "      <td>Sell</td>\n",
       "      <td>105.780599</td>\n",
       "      <td>216.447674</td>\n",
       "      <td>-58.075154</td>\n",
       "      <td>216.447674</td>\n",
       "      <td>100007</td>\n",
       "      <td>1</td>\n",
       "    </tr>\n",
       "    <tr>\n",
       "      <th>8</th>\n",
       "      <td>Buy</td>\n",
       "      <td>48.406640</td>\n",
       "      <td>-57.373959</td>\n",
       "      <td>-57.373959</td>\n",
       "      <td>210.182965</td>\n",
       "      <td>100008</td>\n",
       "      <td>0</td>\n",
       "    </tr>\n",
       "    <tr>\n",
       "      <th>9</th>\n",
       "      <td>Sell</td>\n",
       "      <td>-4.155811</td>\n",
       "      <td>-52.562451</td>\n",
       "      <td>-52.562451</td>\n",
       "      <td>198.544093</td>\n",
       "      <td>100009</td>\n",
       "      <td>0</td>\n",
       "    </tr>\n",
       "    <tr>\n",
       "      <th>10</th>\n",
       "      <td>Sell</td>\n",
       "      <td>-64.708452</td>\n",
       "      <td>-60.552641</td>\n",
       "      <td>-60.552641</td>\n",
       "      <td>231.769001</td>\n",
       "      <td>100010</td>\n",
       "      <td>0</td>\n",
       "    </tr>\n",
       "    <tr>\n",
       "      <th>11</th>\n",
       "      <td>Sell</td>\n",
       "      <td>-107.369762</td>\n",
       "      <td>-42.661311</td>\n",
       "      <td>-42.661311</td>\n",
       "      <td>189.154274</td>\n",
       "      <td>100011</td>\n",
       "      <td>0</td>\n",
       "    </tr>\n",
       "    <tr>\n",
       "      <th>12</th>\n",
       "      <td>Sell</td>\n",
       "      <td>-172.440583</td>\n",
       "      <td>-65.070820</td>\n",
       "      <td>-65.070820</td>\n",
       "      <td>237.434674</td>\n",
       "      <td>100012</td>\n",
       "      <td>0</td>\n",
       "    </tr>\n",
       "    <tr>\n",
       "      <th>13</th>\n",
       "      <td>Buy</td>\n",
       "      <td>-235.751204</td>\n",
       "      <td>-63.310621</td>\n",
       "      <td>-63.310621</td>\n",
       "      <td>220.128240</td>\n",
       "      <td>100013</td>\n",
       "      <td>0</td>\n",
       "    </tr>\n",
       "    <tr>\n",
       "      <th>14</th>\n",
       "      <td>Buy</td>\n",
       "      <td>-17.244955</td>\n",
       "      <td>218.506249</td>\n",
       "      <td>-60.495320</td>\n",
       "      <td>218.506249</td>\n",
       "      <td>100014</td>\n",
       "      <td>1</td>\n",
       "    </tr>\n",
       "    <tr>\n",
       "      <th>15</th>\n",
       "      <td>Buy</td>\n",
       "      <td>-72.993676</td>\n",
       "      <td>-55.748721</td>\n",
       "      <td>-55.748721</td>\n",
       "      <td>209.696037</td>\n",
       "      <td>100015</td>\n",
       "      <td>0</td>\n",
       "    </tr>\n",
       "    <tr>\n",
       "      <th>16</th>\n",
       "      <td>Buy</td>\n",
       "      <td>-129.647233</td>\n",
       "      <td>-56.653557</td>\n",
       "      <td>-56.653557</td>\n",
       "      <td>212.862964</td>\n",
       "      <td>100016</td>\n",
       "      <td>0</td>\n",
       "    </tr>\n",
       "    <tr>\n",
       "      <th>17</th>\n",
       "      <td>Buy</td>\n",
       "      <td>-146.388342</td>\n",
       "      <td>-16.741109</td>\n",
       "      <td>-16.741109</td>\n",
       "      <td>92.445539</td>\n",
       "      <td>100017</td>\n",
       "      <td>0</td>\n",
       "    </tr>\n",
       "    <tr>\n",
       "      <th>18</th>\n",
       "      <td>Sell</td>\n",
       "      <td>-200.151292</td>\n",
       "      <td>-53.762951</td>\n",
       "      <td>-53.762951</td>\n",
       "      <td>205.806734</td>\n",
       "      <td>100018</td>\n",
       "      <td>0</td>\n",
       "    </tr>\n",
       "    <tr>\n",
       "      <th>19</th>\n",
       "      <td>Sell</td>\n",
       "      <td>-267.387836</td>\n",
       "      <td>-67.236543</td>\n",
       "      <td>-67.236543</td>\n",
       "      <td>243.931843</td>\n",
       "      <td>100019</td>\n",
       "      <td>0</td>\n",
       "    </tr>\n",
       "    <tr>\n",
       "      <th>20</th>\n",
       "      <td>Sell</td>\n",
       "      <td>-325.763639</td>\n",
       "      <td>-58.375803</td>\n",
       "      <td>-58.375803</td>\n",
       "      <td>215.808419</td>\n",
       "      <td>100020</td>\n",
       "      <td>0</td>\n",
       "    </tr>\n",
       "    <tr>\n",
       "      <th>21</th>\n",
       "      <td>Buy</td>\n",
       "      <td>-364.654439</td>\n",
       "      <td>-38.890800</td>\n",
       "      <td>-38.890800</td>\n",
       "      <td>191.699807</td>\n",
       "      <td>100021</td>\n",
       "      <td>0</td>\n",
       "    </tr>\n",
       "    <tr>\n",
       "      <th>22</th>\n",
       "      <td>Sell</td>\n",
       "      <td>-434.593362</td>\n",
       "      <td>-69.938923</td>\n",
       "      <td>-69.938923</td>\n",
       "      <td>274.007270</td>\n",
       "      <td>100022</td>\n",
       "      <td>0</td>\n",
       "    </tr>\n",
       "    <tr>\n",
       "      <th>23</th>\n",
       "      <td>Buy</td>\n",
       "      <td>-476.937072</td>\n",
       "      <td>-42.343711</td>\n",
       "      <td>-42.343711</td>\n",
       "      <td>169.253345</td>\n",
       "      <td>100023</td>\n",
       "      <td>0</td>\n",
       "    </tr>\n",
       "    <tr>\n",
       "      <th>24</th>\n",
       "      <td>Sell</td>\n",
       "      <td>-532.785022</td>\n",
       "      <td>-55.847950</td>\n",
       "      <td>-55.847950</td>\n",
       "      <td>209.766062</td>\n",
       "      <td>100024</td>\n",
       "      <td>0</td>\n",
       "    </tr>\n",
       "    <tr>\n",
       "      <th>25</th>\n",
       "      <td>Buy</td>\n",
       "      <td>-597.804277</td>\n",
       "      <td>-65.019255</td>\n",
       "      <td>-65.019255</td>\n",
       "      <td>242.142906</td>\n",
       "      <td>100025</td>\n",
       "      <td>0</td>\n",
       "    </tr>\n",
       "    <tr>\n",
       "      <th>26</th>\n",
       "      <td>Buy</td>\n",
       "      <td>-654.063179</td>\n",
       "      <td>-56.258902</td>\n",
       "      <td>-56.258902</td>\n",
       "      <td>210.998920</td>\n",
       "      <td>100026</td>\n",
       "      <td>0</td>\n",
       "    </tr>\n",
       "    <tr>\n",
       "      <th>27</th>\n",
       "      <td>Buy</td>\n",
       "      <td>-449.221278</td>\n",
       "      <td>204.841901</td>\n",
       "      <td>-53.989196</td>\n",
       "      <td>204.841901</td>\n",
       "      <td>100027</td>\n",
       "      <td>1</td>\n",
       "    </tr>\n",
       "    <tr>\n",
       "      <th>28</th>\n",
       "      <td>Sell</td>\n",
       "      <td>-523.574188</td>\n",
       "      <td>-74.352911</td>\n",
       "      <td>-74.352911</td>\n",
       "      <td>265.280945</td>\n",
       "      <td>100028</td>\n",
       "      <td>0</td>\n",
       "    </tr>\n",
       "    <tr>\n",
       "      <th>29</th>\n",
       "      <td>Buy</td>\n",
       "      <td>-568.342483</td>\n",
       "      <td>-44.768295</td>\n",
       "      <td>-44.768295</td>\n",
       "      <td>192.314750</td>\n",
       "      <td>100029</td>\n",
       "      <td>0</td>\n",
       "    </tr>\n",
       "    <tr>\n",
       "      <th>...</th>\n",
       "      <td>...</td>\n",
       "      <td>...</td>\n",
       "      <td>...</td>\n",
       "      <td>...</td>\n",
       "      <td>...</td>\n",
       "      <td>...</td>\n",
       "      <td>...</td>\n",
       "    </tr>\n",
       "    <tr>\n",
       "      <th>99970</th>\n",
       "      <td>Sell</td>\n",
       "      <td>16129.466956</td>\n",
       "      <td>-45.894166</td>\n",
       "      <td>-45.894166</td>\n",
       "      <td>179.904710</td>\n",
       "      <td>199970</td>\n",
       "      <td>0</td>\n",
       "    </tr>\n",
       "    <tr>\n",
       "      <th>99971</th>\n",
       "      <td>Sell</td>\n",
       "      <td>16059.938494</td>\n",
       "      <td>-69.528462</td>\n",
       "      <td>-69.528462</td>\n",
       "      <td>236.572534</td>\n",
       "      <td>199971</td>\n",
       "      <td>0</td>\n",
       "    </tr>\n",
       "    <tr>\n",
       "      <th>99972</th>\n",
       "      <td>Sell</td>\n",
       "      <td>15994.415308</td>\n",
       "      <td>-65.523186</td>\n",
       "      <td>-65.523186</td>\n",
       "      <td>233.676876</td>\n",
       "      <td>199972</td>\n",
       "      <td>0</td>\n",
       "    </tr>\n",
       "    <tr>\n",
       "      <th>99973</th>\n",
       "      <td>Sell</td>\n",
       "      <td>15956.083839</td>\n",
       "      <td>-38.331469</td>\n",
       "      <td>-38.331469</td>\n",
       "      <td>148.735656</td>\n",
       "      <td>199973</td>\n",
       "      <td>0</td>\n",
       "    </tr>\n",
       "    <tr>\n",
       "      <th>99974</th>\n",
       "      <td>Sell</td>\n",
       "      <td>15921.753577</td>\n",
       "      <td>-34.330262</td>\n",
       "      <td>-34.330262</td>\n",
       "      <td>145.212998</td>\n",
       "      <td>199974</td>\n",
       "      <td>0</td>\n",
       "    </tr>\n",
       "    <tr>\n",
       "      <th>99975</th>\n",
       "      <td>Sell</td>\n",
       "      <td>15858.064074</td>\n",
       "      <td>-63.689503</td>\n",
       "      <td>-63.689503</td>\n",
       "      <td>224.894616</td>\n",
       "      <td>199975</td>\n",
       "      <td>0</td>\n",
       "    </tr>\n",
       "    <tr>\n",
       "      <th>99976</th>\n",
       "      <td>Sell</td>\n",
       "      <td>15802.677835</td>\n",
       "      <td>-55.386240</td>\n",
       "      <td>-55.386240</td>\n",
       "      <td>208.380932</td>\n",
       "      <td>199976</td>\n",
       "      <td>0</td>\n",
       "    </tr>\n",
       "    <tr>\n",
       "      <th>99977</th>\n",
       "      <td>Buy</td>\n",
       "      <td>16001.972741</td>\n",
       "      <td>199.294907</td>\n",
       "      <td>-52.357565</td>\n",
       "      <td>199.294907</td>\n",
       "      <td>199977</td>\n",
       "      <td>1</td>\n",
       "    </tr>\n",
       "    <tr>\n",
       "      <th>99978</th>\n",
       "      <td>Sell</td>\n",
       "      <td>15931.069102</td>\n",
       "      <td>-70.903639</td>\n",
       "      <td>-70.903639</td>\n",
       "      <td>239.322888</td>\n",
       "      <td>199978</td>\n",
       "      <td>0</td>\n",
       "    </tr>\n",
       "    <tr>\n",
       "      <th>99979</th>\n",
       "      <td>Sell</td>\n",
       "      <td>15879.592734</td>\n",
       "      <td>-51.476368</td>\n",
       "      <td>-51.476368</td>\n",
       "      <td>200.468346</td>\n",
       "      <td>199979</td>\n",
       "      <td>0</td>\n",
       "    </tr>\n",
       "    <tr>\n",
       "      <th>99980</th>\n",
       "      <td>Sell</td>\n",
       "      <td>16097.347237</td>\n",
       "      <td>217.754503</td>\n",
       "      <td>-59.154237</td>\n",
       "      <td>217.754503</td>\n",
       "      <td>199980</td>\n",
       "      <td>1</td>\n",
       "    </tr>\n",
       "    <tr>\n",
       "      <th>99981</th>\n",
       "      <td>Buy</td>\n",
       "      <td>16055.746008</td>\n",
       "      <td>-41.601229</td>\n",
       "      <td>-41.601229</td>\n",
       "      <td>167.025900</td>\n",
       "      <td>199981</td>\n",
       "      <td>0</td>\n",
       "    </tr>\n",
       "    <tr>\n",
       "      <th>99982</th>\n",
       "      <td>Sell</td>\n",
       "      <td>16007.710736</td>\n",
       "      <td>-48.035272</td>\n",
       "      <td>-48.035272</td>\n",
       "      <td>193.586153</td>\n",
       "      <td>199982</td>\n",
       "      <td>0</td>\n",
       "    </tr>\n",
       "    <tr>\n",
       "      <th>99983</th>\n",
       "      <td>Buy</td>\n",
       "      <td>15940.329676</td>\n",
       "      <td>-67.381061</td>\n",
       "      <td>-67.381061</td>\n",
       "      <td>238.321563</td>\n",
       "      <td>199983</td>\n",
       "      <td>0</td>\n",
       "    </tr>\n",
       "    <tr>\n",
       "      <th>99984</th>\n",
       "      <td>Buy</td>\n",
       "      <td>16137.220020</td>\n",
       "      <td>196.890345</td>\n",
       "      <td>-51.556044</td>\n",
       "      <td>196.890345</td>\n",
       "      <td>199984</td>\n",
       "      <td>1</td>\n",
       "    </tr>\n",
       "    <tr>\n",
       "      <th>99985</th>\n",
       "      <td>Sell</td>\n",
       "      <td>16063.727250</td>\n",
       "      <td>-73.492770</td>\n",
       "      <td>-73.492770</td>\n",
       "      <td>271.800210</td>\n",
       "      <td>199985</td>\n",
       "      <td>0</td>\n",
       "    </tr>\n",
       "    <tr>\n",
       "      <th>99986</th>\n",
       "      <td>Buy</td>\n",
       "      <td>16265.927113</td>\n",
       "      <td>202.199862</td>\n",
       "      <td>-53.817762</td>\n",
       "      <td>202.199862</td>\n",
       "      <td>199986</td>\n",
       "      <td>1</td>\n",
       "    </tr>\n",
       "    <tr>\n",
       "      <th>99987</th>\n",
       "      <td>Sell</td>\n",
       "      <td>16195.241954</td>\n",
       "      <td>-70.685159</td>\n",
       "      <td>-70.685159</td>\n",
       "      <td>246.581808</td>\n",
       "      <td>199987</td>\n",
       "      <td>0</td>\n",
       "    </tr>\n",
       "    <tr>\n",
       "      <th>99988</th>\n",
       "      <td>Sell</td>\n",
       "      <td>16142.556237</td>\n",
       "      <td>-52.685718</td>\n",
       "      <td>-52.685718</td>\n",
       "      <td>201.583206</td>\n",
       "      <td>199988</td>\n",
       "      <td>0</td>\n",
       "    </tr>\n",
       "    <tr>\n",
       "      <th>99989</th>\n",
       "      <td>Buy</td>\n",
       "      <td>16084.619852</td>\n",
       "      <td>-57.936385</td>\n",
       "      <td>-57.936385</td>\n",
       "      <td>218.674354</td>\n",
       "      <td>199989</td>\n",
       "      <td>0</td>\n",
       "    </tr>\n",
       "    <tr>\n",
       "      <th>99990</th>\n",
       "      <td>Sell</td>\n",
       "      <td>16007.755379</td>\n",
       "      <td>-76.864473</td>\n",
       "      <td>-76.864473</td>\n",
       "      <td>240.459018</td>\n",
       "      <td>199990</td>\n",
       "      <td>0</td>\n",
       "    </tr>\n",
       "    <tr>\n",
       "      <th>99991</th>\n",
       "      <td>Sell</td>\n",
       "      <td>15967.397613</td>\n",
       "      <td>-40.357765</td>\n",
       "      <td>-40.357765</td>\n",
       "      <td>163.295509</td>\n",
       "      <td>199991</td>\n",
       "      <td>0</td>\n",
       "    </tr>\n",
       "    <tr>\n",
       "      <th>99992</th>\n",
       "      <td>Buy</td>\n",
       "      <td>16206.001733</td>\n",
       "      <td>238.604120</td>\n",
       "      <td>-64.008173</td>\n",
       "      <td>238.604120</td>\n",
       "      <td>199992</td>\n",
       "      <td>1</td>\n",
       "    </tr>\n",
       "    <tr>\n",
       "      <th>99993</th>\n",
       "      <td>Sell</td>\n",
       "      <td>16415.813089</td>\n",
       "      <td>209.811356</td>\n",
       "      <td>-56.432699</td>\n",
       "      <td>209.811356</td>\n",
       "      <td>199993</td>\n",
       "      <td>1</td>\n",
       "    </tr>\n",
       "    <tr>\n",
       "      <th>99994</th>\n",
       "      <td>Buy</td>\n",
       "      <td>16623.669802</td>\n",
       "      <td>207.856713</td>\n",
       "      <td>-55.211500</td>\n",
       "      <td>207.856713</td>\n",
       "      <td>199994</td>\n",
       "      <td>1</td>\n",
       "    </tr>\n",
       "    <tr>\n",
       "      <th>99995</th>\n",
       "      <td>Buy</td>\n",
       "      <td>16580.549144</td>\n",
       "      <td>-43.120658</td>\n",
       "      <td>-43.120658</td>\n",
       "      <td>189.843295</td>\n",
       "      <td>199995</td>\n",
       "      <td>0</td>\n",
       "    </tr>\n",
       "    <tr>\n",
       "      <th>99996</th>\n",
       "      <td>Buy</td>\n",
       "      <td>16534.117075</td>\n",
       "      <td>-46.432069</td>\n",
       "      <td>-46.432069</td>\n",
       "      <td>159.365102</td>\n",
       "      <td>199996</td>\n",
       "      <td>0</td>\n",
       "    </tr>\n",
       "    <tr>\n",
       "      <th>99997</th>\n",
       "      <td>Buy</td>\n",
       "      <td>16794.045401</td>\n",
       "      <td>259.928326</td>\n",
       "      <td>-68.249878</td>\n",
       "      <td>259.928326</td>\n",
       "      <td>199997</td>\n",
       "      <td>1</td>\n",
       "    </tr>\n",
       "    <tr>\n",
       "      <th>99998</th>\n",
       "      <td>Sell</td>\n",
       "      <td>16988.465860</td>\n",
       "      <td>194.420459</td>\n",
       "      <td>-48.452425</td>\n",
       "      <td>194.420459</td>\n",
       "      <td>199998</td>\n",
       "      <td>1</td>\n",
       "    </tr>\n",
       "    <tr>\n",
       "      <th>99999</th>\n",
       "      <td>Buy</td>\n",
       "      <td>17277.398427</td>\n",
       "      <td>288.932567</td>\n",
       "      <td>-87.625462</td>\n",
       "      <td>288.932567</td>\n",
       "      <td>199999</td>\n",
       "      <td>1</td>\n",
       "    </tr>\n",
       "  </tbody>\n",
       "</table>\n",
       "<p>100000 rows × 7 columns</p>\n",
       "</div>"
      ],
      "text/plain": [
       "      Direction        PipP&L  ResultPips     SLPips      TPPips  TradeId  \\\n",
       "0           Buy    227.475250  227.475250 -64.979820  227.475250   100000   \n",
       "1          Sell    152.450761  -75.024489 -75.024489  277.161225   100001   \n",
       "2           Buy     72.055682  -80.395079 -80.395079  295.958290   100002   \n",
       "3          Sell     26.886834  -45.168848 -45.168848  167.604208   100003   \n",
       "4          Sell    -20.804392  -47.691226 -47.691226  189.096976   100004   \n",
       "5           Buy    -48.693098  -27.888706 -27.888706  112.185986   100005   \n",
       "6           Buy   -110.667076  -61.973978 -61.973978  218.123275   100006   \n",
       "7          Sell    105.780599  216.447674 -58.075154  216.447674   100007   \n",
       "8           Buy     48.406640  -57.373959 -57.373959  210.182965   100008   \n",
       "9          Sell     -4.155811  -52.562451 -52.562451  198.544093   100009   \n",
       "10         Sell    -64.708452  -60.552641 -60.552641  231.769001   100010   \n",
       "11         Sell   -107.369762  -42.661311 -42.661311  189.154274   100011   \n",
       "12         Sell   -172.440583  -65.070820 -65.070820  237.434674   100012   \n",
       "13          Buy   -235.751204  -63.310621 -63.310621  220.128240   100013   \n",
       "14          Buy    -17.244955  218.506249 -60.495320  218.506249   100014   \n",
       "15          Buy    -72.993676  -55.748721 -55.748721  209.696037   100015   \n",
       "16          Buy   -129.647233  -56.653557 -56.653557  212.862964   100016   \n",
       "17          Buy   -146.388342  -16.741109 -16.741109   92.445539   100017   \n",
       "18         Sell   -200.151292  -53.762951 -53.762951  205.806734   100018   \n",
       "19         Sell   -267.387836  -67.236543 -67.236543  243.931843   100019   \n",
       "20         Sell   -325.763639  -58.375803 -58.375803  215.808419   100020   \n",
       "21          Buy   -364.654439  -38.890800 -38.890800  191.699807   100021   \n",
       "22         Sell   -434.593362  -69.938923 -69.938923  274.007270   100022   \n",
       "23          Buy   -476.937072  -42.343711 -42.343711  169.253345   100023   \n",
       "24         Sell   -532.785022  -55.847950 -55.847950  209.766062   100024   \n",
       "25          Buy   -597.804277  -65.019255 -65.019255  242.142906   100025   \n",
       "26          Buy   -654.063179  -56.258902 -56.258902  210.998920   100026   \n",
       "27          Buy   -449.221278  204.841901 -53.989196  204.841901   100027   \n",
       "28         Sell   -523.574188  -74.352911 -74.352911  265.280945   100028   \n",
       "29          Buy   -568.342483  -44.768295 -44.768295  192.314750   100029   \n",
       "...         ...           ...         ...        ...         ...      ...   \n",
       "99970      Sell  16129.466956  -45.894166 -45.894166  179.904710   199970   \n",
       "99971      Sell  16059.938494  -69.528462 -69.528462  236.572534   199971   \n",
       "99972      Sell  15994.415308  -65.523186 -65.523186  233.676876   199972   \n",
       "99973      Sell  15956.083839  -38.331469 -38.331469  148.735656   199973   \n",
       "99974      Sell  15921.753577  -34.330262 -34.330262  145.212998   199974   \n",
       "99975      Sell  15858.064074  -63.689503 -63.689503  224.894616   199975   \n",
       "99976      Sell  15802.677835  -55.386240 -55.386240  208.380932   199976   \n",
       "99977       Buy  16001.972741  199.294907 -52.357565  199.294907   199977   \n",
       "99978      Sell  15931.069102  -70.903639 -70.903639  239.322888   199978   \n",
       "99979      Sell  15879.592734  -51.476368 -51.476368  200.468346   199979   \n",
       "99980      Sell  16097.347237  217.754503 -59.154237  217.754503   199980   \n",
       "99981       Buy  16055.746008  -41.601229 -41.601229  167.025900   199981   \n",
       "99982      Sell  16007.710736  -48.035272 -48.035272  193.586153   199982   \n",
       "99983       Buy  15940.329676  -67.381061 -67.381061  238.321563   199983   \n",
       "99984       Buy  16137.220020  196.890345 -51.556044  196.890345   199984   \n",
       "99985      Sell  16063.727250  -73.492770 -73.492770  271.800210   199985   \n",
       "99986       Buy  16265.927113  202.199862 -53.817762  202.199862   199986   \n",
       "99987      Sell  16195.241954  -70.685159 -70.685159  246.581808   199987   \n",
       "99988      Sell  16142.556237  -52.685718 -52.685718  201.583206   199988   \n",
       "99989       Buy  16084.619852  -57.936385 -57.936385  218.674354   199989   \n",
       "99990      Sell  16007.755379  -76.864473 -76.864473  240.459018   199990   \n",
       "99991      Sell  15967.397613  -40.357765 -40.357765  163.295509   199991   \n",
       "99992       Buy  16206.001733  238.604120 -64.008173  238.604120   199992   \n",
       "99993      Sell  16415.813089  209.811356 -56.432699  209.811356   199993   \n",
       "99994       Buy  16623.669802  207.856713 -55.211500  207.856713   199994   \n",
       "99995       Buy  16580.549144  -43.120658 -43.120658  189.843295   199995   \n",
       "99996       Buy  16534.117075  -46.432069 -46.432069  159.365102   199996   \n",
       "99997       Buy  16794.045401  259.928326 -68.249878  259.928326   199997   \n",
       "99998      Sell  16988.465860  194.420459 -48.452425  194.420459   199998   \n",
       "99999       Buy  17277.398427  288.932567 -87.625462  288.932567   199999   \n",
       "\n",
       "       WinLoss  \n",
       "0            1  \n",
       "1            0  \n",
       "2            0  \n",
       "3            0  \n",
       "4            0  \n",
       "5            0  \n",
       "6            0  \n",
       "7            1  \n",
       "8            0  \n",
       "9            0  \n",
       "10           0  \n",
       "11           0  \n",
       "12           0  \n",
       "13           0  \n",
       "14           1  \n",
       "15           0  \n",
       "16           0  \n",
       "17           0  \n",
       "18           0  \n",
       "19           0  \n",
       "20           0  \n",
       "21           0  \n",
       "22           0  \n",
       "23           0  \n",
       "24           0  \n",
       "25           0  \n",
       "26           0  \n",
       "27           1  \n",
       "28           0  \n",
       "29           0  \n",
       "...        ...  \n",
       "99970        0  \n",
       "99971        0  \n",
       "99972        0  \n",
       "99973        0  \n",
       "99974        0  \n",
       "99975        0  \n",
       "99976        0  \n",
       "99977        1  \n",
       "99978        0  \n",
       "99979        0  \n",
       "99980        1  \n",
       "99981        0  \n",
       "99982        0  \n",
       "99983        0  \n",
       "99984        1  \n",
       "99985        0  \n",
       "99986        1  \n",
       "99987        0  \n",
       "99988        0  \n",
       "99989        0  \n",
       "99990        0  \n",
       "99991        0  \n",
       "99992        1  \n",
       "99993        1  \n",
       "99994        1  \n",
       "99995        0  \n",
       "99996        0  \n",
       "99997        1  \n",
       "99998        1  \n",
       "99999        1  \n",
       "\n",
       "[100000 rows x 7 columns]"
      ]
     },
     "execution_count": 166,
     "metadata": {},
     "output_type": "execute_result"
    }
   ],
   "source": [
    "Tradehistory"
   ]
  },
  {
   "cell_type": "code",
   "execution_count": 167,
   "metadata": {},
   "outputs": [
    {
     "name": "stdout",
     "output_type": "stream",
     "text": [
      "<class 'pandas.core.frame.DataFrame'>\n",
      "RangeIndex: 100000 entries, 0 to 99999\n",
      "Data columns (total 7 columns):\n",
      "Direction     100000 non-null object\n",
      "PipP&L        100000 non-null float64\n",
      "ResultPips    100000 non-null float64\n",
      "SLPips        100000 non-null float64\n",
      "TPPips        100000 non-null float64\n",
      "TradeId       100000 non-null int64\n",
      "WinLoss       100000 non-null int64\n",
      "dtypes: float64(4), int64(2), object(1)\n",
      "memory usage: 5.3+ MB\n",
      "None\n",
      "              PipP&L     ResultPips         SLPips         TPPips  \\\n",
      "count  100000.000000  100000.000000  100000.000000  100000.000000   \n",
      "mean     -881.153441       0.172774     -55.315874     208.131656   \n",
      "std      5881.943018     109.298843      12.527011      34.282536   \n",
      "min    -16748.490652    -106.180121    -118.863214       0.000000   \n",
      "25%     -4571.669642     -61.106808     -63.816824     187.893533   \n",
      "50%     -1197.372069     -50.883573     -55.278750     208.068400   \n",
      "75%      2280.124517     -34.679912     -46.842749     228.355461   \n",
      "max     17277.398427     382.483281      -0.000000     412.632627   \n",
      "\n",
      "             TradeId        WinLoss  \n",
      "count  100000.000000  100000.000000  \n",
      "mean   149999.500000       0.208840  \n",
      "std     28867.657797       0.406482  \n",
      "min    100000.000000       0.000000  \n",
      "25%    124999.750000       0.000000  \n",
      "50%    149999.500000       0.000000  \n",
      "75%    174999.250000       0.000000  \n",
      "max    199999.000000       1.000000  \n"
     ]
    }
   ],
   "source": [
    "print Tradehistory.info()\n",
    "print Tradehistory.describe()"
   ]
  },
  {
   "cell_type": "markdown",
   "metadata": {},
   "source": [
    "### This is the Pip Accumulated curve over time, or the ROI of the account over time.\n",
    "        Assuming that the Lot / volume size entered into the market is fixed, then this would be the balance graph you would get in a efficient market hypothesis after SimSize( default is 100k) amount of trades done"
   ]
  },
  {
   "cell_type": "code",
   "execution_count": 168,
   "metadata": {},
   "outputs": [
    {
     "data": {
      "text/plain": [
       "<matplotlib.axes._subplots.AxesSubplot at 0xfbe4128>"
      ]
     },
     "execution_count": 168,
     "metadata": {},
     "output_type": "execute_result"
    },
    {
     "data": {
      "image/png": "[encoded data removed]",
      "text/plain": [
       "<matplotlib.figure.Figure at 0x110c36a0>"
      ]
     },
     "metadata": {},
     "output_type": "display_data"
    }
   ],
   "source": [
    "Tradehistory['PipP&L'].plot()"
   ]
  },
  {
   "cell_type": "markdown",
   "metadata": {},
   "source": [
    "## Performing a bayesian generation on the accounts\n",
    "    We're going to simulate a few thousand accounts, all placing trades on a random and unpredictable market."
   ]
  },
  {
   "cell_type": "markdown",
   "metadata": {},
   "source": [
    "## The above steps was used to generate just 1 account's portfolio of trades\n",
    "    We will have to create a function to automate that process and that loop it a few thousand times"
   ]
  }
 ],
 "metadata": {
  "kernelspec": {
   "display_name": "Python 2",
   "language": "python",
   "name": "python2"
  },
  "language_info": {
   "codemirror_mode": {
    "name": "ipython",
    "version": 2
   },
   "file_extension": ".py",
   "mimetype": "text/x-python",
   "name": "python",
   "nbconvert_exporter": "python",
   "pygments_lexer": "ipython2",
   "version": "2.7.13"
  }
 },
 "nbformat": 4,
 "nbformat_minor": 2
}
